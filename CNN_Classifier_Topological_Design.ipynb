{
  "nbformat": 4,
  "nbformat_minor": 0,
  "metadata": {
    "kernelspec": {
      "display_name": "Python 3",
      "language": "python",
      "name": "python3"
    },
    "language_info": {
      "codemirror_mode": {
        "name": "ipython",
        "version": 3
      },
      "file_extension": ".py",
      "mimetype": "text/x-python",
      "name": "python",
      "nbconvert_exporter": "python",
      "pygments_lexer": "ipython3",
      "version": "3.6.13"
    },
    "colab": {
      "name": "CNN Classifier Topological Design.ipynb",
      "provenance": [],
      "include_colab_link": true
    },
    "accelerator": "GPU"
  },
  "cells": [
    {
      "cell_type": "markdown",
      "metadata": {
        "id": "view-in-github",
        "colab_type": "text"
      },
      "source": [
        "<a href=\"https://colab.research.google.com/github/AmadeusAlcantara/GitTrainingWall/blob/master/CNN_Classifier_Topological_Design.ipynb\" target=\"_parent\"><img src=\"https://colab.research.google.com/assets/colab-badge.svg\" alt=\"Open In Colab\"/></a>"
      ]
    },
    {
      "cell_type": "markdown",
      "metadata": {
        "id": "Sp2z1zpmUS91"
      },
      "source": [
        "# Deep Learning exercise -  Classify Topological Designs \n",
        "\n",
        "Predictive Multiscale Materials Design Short Course\n",
        "\n",
        "June 21-25, 2021\n",
        "\n",
        "Markus J. Buehler, MIT"
      ]
    },
    {
      "cell_type": "code",
      "metadata": {
        "colab": {
          "base_uri": "https://localhost:8080/"
        },
        "id": "WHFo_n3tUS99",
        "outputId": "4e27007c-8047-41f0-f400-d6707178b9d7"
      },
      "source": [
        "import os\n",
        "#os.environ[\"CUDA_VISIBLE_DEVICES\"] = \"-1\"\n",
        "\n",
        "#import libraries\n",
        "import tensorflow_hub as hub\n",
        "from keras.preprocessing.image import load_img, img_to_array\n",
        "from tensorflow.keras import layers\n",
        "import numpy as np\n",
        "import keras \n",
        "from tensorflow.keras.models import load_model\n",
        "import tensorflow as tf\n",
        "\n",
        "print(tf.__version__)\n",
        "\n",
        "if tf.test.gpu_device_name(): \n",
        " print('Default GPU Device:  {}'.format(tf.test.gpu_device_name()))\n",
        "\n",
        "else:\n",
        "   print(\"You should install GPU version of TF\")\n",
        " "
      ],
      "execution_count": 1,
      "outputs": [
        {
          "output_type": "stream",
          "text": [
            "2.5.0\n",
            "Default GPU Device:  /device:GPU:0\n"
          ],
          "name": "stdout"
        }
      ]
    },
    {
      "cell_type": "code",
      "metadata": {
        "colab": {
          "base_uri": "https://localhost:8080/"
        },
        "id": "CNdO6DWKUS-C",
        "outputId": "dd23fc8f-5e62-4801-ae5e-a6716702f5c3"
      },
      "source": [
        "!nvidia-smi"
      ],
      "execution_count": 2,
      "outputs": [
        {
          "output_type": "stream",
          "text": [
            "Wed Jun 23 19:23:28 2021       \n",
            "+-----------------------------------------------------------------------------+\n",
            "| NVIDIA-SMI 465.27       Driver Version: 460.32.03    CUDA Version: 11.2     |\n",
            "|-------------------------------+----------------------+----------------------+\n",
            "| GPU  Name        Persistence-M| Bus-Id        Disp.A | Volatile Uncorr. ECC |\n",
            "| Fan  Temp  Perf  Pwr:Usage/Cap|         Memory-Usage | GPU-Util  Compute M. |\n",
            "|                               |                      |               MIG M. |\n",
            "|===============================+======================+======================|\n",
            "|   0  Tesla T4            Off  | 00000000:00:04.0 Off |                    0 |\n",
            "| N/A   65C    P0    31W /  70W |    222MiB / 15109MiB |      0%      Default |\n",
            "|                               |                      |                  N/A |\n",
            "+-------------------------------+----------------------+----------------------+\n",
            "                                                                               \n",
            "+-----------------------------------------------------------------------------+\n",
            "| Processes:                                                                  |\n",
            "|  GPU   GI   CI        PID   Type   Process name                  GPU Memory |\n",
            "|        ID   ID                                                   Usage      |\n",
            "|=============================================================================|\n",
            "+-----------------------------------------------------------------------------+\n"
          ],
          "name": "stdout"
        }
      ]
    },
    {
      "cell_type": "code",
      "metadata": {
        "colab": {
          "base_uri": "https://localhost:8080/"
        },
        "id": "rQrbnpK8US-E",
        "outputId": "f2cc4cf5-0ac2-4fbb-aed8-497f6dccbcc2"
      },
      "source": [
        "!wget -O Day3TopOptClass.zip https://www.dropbox.com/s/fl14m9bsnkyoxnj/Day3TopOptClass.zip?dl=0\n",
        "!unzip Day3TopOptClass.zip    "
      ],
      "execution_count": 3,
      "outputs": [
        {
          "output_type": "stream",
          "text": [
            "--2021-06-23 19:23:45--  https://www.dropbox.com/s/fl14m9bsnkyoxnj/Day3TopOptClass.zip?dl=0\n",
            "Resolving www.dropbox.com (www.dropbox.com)... 162.125.6.18, 2620:100:601c:18::a27d:612\n",
            "Connecting to www.dropbox.com (www.dropbox.com)|162.125.6.18|:443... connected.\n",
            "HTTP request sent, awaiting response... 301 Moved Permanently\n",
            "Location: /s/raw/fl14m9bsnkyoxnj/Day3TopOptClass.zip [following]\n",
            "--2021-06-23 19:23:45--  https://www.dropbox.com/s/raw/fl14m9bsnkyoxnj/Day3TopOptClass.zip\n",
            "Reusing existing connection to www.dropbox.com:443.\n",
            "HTTP request sent, awaiting response... 302 Found\n",
            "Location: https://ucd5a0e4b291bd17d3c728174c4d.dl.dropboxusercontent.com/cd/0/inline/BQ87_Ha9NGgg3bcKDmN7I6pSwidV1VczF9ZWS8VCp0D-ae93AXDZYyXPlwMDBf112bVP__a2mo9ixwLtKmUS2vJ3K90fFExn0rHYF_UpiTyI2Oc19nN0mbDJAjDe-PJLhUPPifgxd4qHd8PKMLNUrKBt/file# [following]\n",
            "--2021-06-23 19:23:45--  https://ucd5a0e4b291bd17d3c728174c4d.dl.dropboxusercontent.com/cd/0/inline/BQ87_Ha9NGgg3bcKDmN7I6pSwidV1VczF9ZWS8VCp0D-ae93AXDZYyXPlwMDBf112bVP__a2mo9ixwLtKmUS2vJ3K90fFExn0rHYF_UpiTyI2Oc19nN0mbDJAjDe-PJLhUPPifgxd4qHd8PKMLNUrKBt/file\n",
            "Resolving ucd5a0e4b291bd17d3c728174c4d.dl.dropboxusercontent.com (ucd5a0e4b291bd17d3c728174c4d.dl.dropboxusercontent.com)... 162.125.6.15, 2620:100:601c:15::a27d:60f\n",
            "Connecting to ucd5a0e4b291bd17d3c728174c4d.dl.dropboxusercontent.com (ucd5a0e4b291bd17d3c728174c4d.dl.dropboxusercontent.com)|162.125.6.15|:443... connected.\n",
            "HTTP request sent, awaiting response... 302 Found\n",
            "Location: /cd/0/inline2/BQ-SEkpIv5zl_TMYGRgjWAIT-IkDjDu_dcVGhjLnnvbU4IqsjZluC1DovpP9fDkhYqxdVAKNmjZIgPxn8kEMVI3AA81J4KE8pa6mlkrJZWNnNV_LKgXiOkV52ghPV7BMB03b_4qzrWVSxBd5h1xFWLOfH2cviZo2dQFAxeYYUP_Zc4evYyflc6s31qOMReBHuRjP1DwKklgFCvj93NleLknp8C3SWSKLuHCWdYNrtFMrnpH8rYqr_yIHz2QrZIPlAyjgPn8VMmnERuDOPqD-gsnUb9SICCcwiwrxKLljzHZqq5frJckRsPmqXCROVVRW0j5rinY2vppnlzdAb3xSOTzxXZZag11rNrLJ4UKuk6QaGCjbNlCUdjYiA6VNFkERIxM/file [following]\n",
            "--2021-06-23 19:23:45--  https://ucd5a0e4b291bd17d3c728174c4d.dl.dropboxusercontent.com/cd/0/inline2/BQ-SEkpIv5zl_TMYGRgjWAIT-IkDjDu_dcVGhjLnnvbU4IqsjZluC1DovpP9fDkhYqxdVAKNmjZIgPxn8kEMVI3AA81J4KE8pa6mlkrJZWNnNV_LKgXiOkV52ghPV7BMB03b_4qzrWVSxBd5h1xFWLOfH2cviZo2dQFAxeYYUP_Zc4evYyflc6s31qOMReBHuRjP1DwKklgFCvj93NleLknp8C3SWSKLuHCWdYNrtFMrnpH8rYqr_yIHz2QrZIPlAyjgPn8VMmnERuDOPqD-gsnUb9SICCcwiwrxKLljzHZqq5frJckRsPmqXCROVVRW0j5rinY2vppnlzdAb3xSOTzxXZZag11rNrLJ4UKuk6QaGCjbNlCUdjYiA6VNFkERIxM/file\n",
            "Reusing existing connection to ucd5a0e4b291bd17d3c728174c4d.dl.dropboxusercontent.com:443.\n",
            "HTTP request sent, awaiting response... 200 OK\n",
            "Length: 2516965 (2.4M) [application/zip]\n",
            "Saving to: ‘Day3TopOptClass.zip’\n",
            "\n",
            "Day3TopOptClass.zip 100%[===================>]   2.40M  --.-KB/s    in 0.02s   \n",
            "\n",
            "2021-06-23 19:23:46 (160 MB/s) - ‘Day3TopOptClass.zip’ saved [2516965/2516965]\n",
            "\n",
            "Archive:  Day3TopOptClass.zip\n",
            "  inflating: .ipynb_checkpoints/image_class_from_scratch-checkpoint.ipynb  \n",
            "  inflating: .ipynb_checkpoints/image_class_from_scratch-Cymatics-checkpoint.ipynb  \n",
            "  inflating: .ipynb_checkpoints/label_image_Cymatics-checkpoint.ipynb  \n",
            "  inflating: .ipynb_checkpoints/label_image_example-checkpoint.ipynb  \n",
            "  inflating: .ipynb_checkpoints/label_image_TopOpt-checkpoint.ipynb  \n",
            "  inflating: topopt-1.png            \n",
            "  inflating: topopt-10.png           \n",
            "  inflating: topopt-2.png            \n",
            "  inflating: topopt-3.png            \n",
            "  inflating: topopt-4.png            \n",
            "  inflating: topopt-5.png            \n",
            "  inflating: topopt-6.png            \n",
            "  inflating: topopt-7.png            \n",
            "  inflating: topopt-8.png            \n",
            "  inflating: topopt-9.png            \n",
            "  inflating: TopOptData/NotOptimized/JPG_image_11_0.jpg  \n",
            "  inflating: TopOptData/NotOptimized/JPG_image_13_0.jpg  \n",
            "  inflating: TopOptData/NotOptimized/JPG_image_15_0.jpg  \n",
            "  inflating: TopOptData/NotOptimized/JPG_image_17_0.jpg  \n",
            "  inflating: TopOptData/NotOptimized/JPG_image_18_0.jpg  \n",
            "  inflating: TopOptData/NotOptimized/JPG_image_20_0.jpg  \n",
            "  inflating: TopOptData/NotOptimized/JPG_image_22_0.jpg  \n",
            "  inflating: TopOptData/NotOptimized/JPG_image_24_0.jpg  \n",
            "  inflating: TopOptData/NotOptimized/JPG_image_26_0.jpg  \n",
            "  inflating: TopOptData/NotOptimized/JPG_image_28_0.jpg  \n",
            "  inflating: TopOptData/NotOptimized/JPG_image_31_0.jpg  \n",
            "  inflating: TopOptData/NotOptimized/JPG_image_33_0.jpg  \n",
            "  inflating: TopOptData/NotOptimized/JPG_image_35_0.jpg  \n",
            "  inflating: TopOptData/NotOptimized/JPG_image_37_0.jpg  \n",
            "  inflating: TopOptData/NotOptimized/JPG_image_39_0.jpg  \n",
            "  inflating: TopOptData/NotOptimized/JPG_image_41_0.jpg  \n",
            "  inflating: TopOptData/NotOptimized/JPG_image_43_0.jpg  \n",
            "  inflating: TopOptData/NotOptimized/JPG_image_45_0.jpg  \n",
            "  inflating: TopOptData/NotOptimized/JPG_image_47_0.jpg  \n",
            "  inflating: TopOptData/NotOptimized/JPG_image_49_0.jpg  \n",
            "  inflating: TopOptData/NotOptimized/JPG_image_51_0.jpg  \n",
            "  inflating: TopOptData/NotOptimized/JPG_image_53_0.jpg  \n",
            "  inflating: TopOptData/NotOptimized/JPG_image_55_0.jpg  \n",
            "  inflating: TopOptData/NotOptimized/JPG_image_57_0.jpg  \n",
            "  inflating: TopOptData/NotOptimized/JPG_image_59_0.jpg  \n",
            "  inflating: TopOptData/NotOptimized/JPG_image_61_0.jpg  \n",
            "  inflating: TopOptData/NotOptimized/JPG_image_63_0.jpg  \n",
            "  inflating: TopOptData/NotOptimized/JPG_image_65_0.jpg  \n",
            "  inflating: TopOptData/NotOptimized/JPG_image_67_0.jpg  \n",
            "  inflating: TopOptData/NotOptimized/JPG_image_69_0.jpg  \n",
            "  inflating: TopOptData/NotOptimized/JPG_image_7_0.jpg  \n",
            "  inflating: TopOptData/NotOptimized/JPG_image_71_0.jpg  \n",
            "  inflating: TopOptData/NotOptimized/JPG_image_73_0.jpg  \n",
            "  inflating: TopOptData/NotOptimized/JPG_image_75_0.jpg  \n",
            "  inflating: TopOptData/NotOptimized/JPG_image_77_0.jpg  \n",
            "  inflating: TopOptData/NotOptimized/JPG_image_79_0.jpg  \n",
            "  inflating: TopOptData/NotOptimized/JPG_image_81_0.jpg  \n",
            "  inflating: TopOptData/NotOptimized/JPG_image_83_0.jpg  \n",
            "  inflating: TopOptData/NotOptimized/JPG_image_85_0.jpg  \n",
            "  inflating: TopOptData/NotOptimized/JPG_image_87_0.jpg  \n",
            "  inflating: TopOptData/NotOptimized/JPG_image_89_0.jpg  \n",
            "  inflating: TopOptData/NotOptimized/JPG_image_91_0.jpg  \n",
            "  inflating: TopOptData/NotOptimized/JPG_image_93_0.jpg  \n",
            "  inflating: TopOptData/NotOptimized/JPG_image_95_0.jpg  \n",
            "  inflating: TopOptData/NotOptimized/JPG_image_97_0.jpg  \n",
            "  inflating: TopOptData/NotOptimized/JPG_image_99_0.jpg  \n",
            "  inflating: TopOptData/NotOptimized/PNG_image_11_0.png  \n",
            "  inflating: TopOptData/NotOptimized/PNG_image_13_0.png  \n",
            "  inflating: TopOptData/NotOptimized/PNG_image_15_0.png  \n",
            "  inflating: TopOptData/NotOptimized/PNG_image_17_0.png  \n",
            "  inflating: TopOptData/NotOptimized/PNG_image_18_0.png  \n",
            "  inflating: TopOptData/NotOptimized/PNG_image_20_0.png  \n",
            "  inflating: TopOptData/NotOptimized/PNG_image_22_0.png  \n",
            "  inflating: TopOptData/NotOptimized/PNG_image_24_0.png  \n",
            "  inflating: TopOptData/NotOptimized/PNG_image_26_0.png  \n",
            "  inflating: TopOptData/NotOptimized/PNG_image_28_0.png  \n",
            "  inflating: TopOptData/NotOptimized/PNG_image_31_0.png  \n",
            "  inflating: TopOptData/NotOptimized/PNG_image_33_0.png  \n",
            "  inflating: TopOptData/NotOptimized/PNG_image_35_0.png  \n",
            "  inflating: TopOptData/NotOptimized/PNG_image_37_0.png  \n",
            "  inflating: TopOptData/NotOptimized/PNG_image_39_0.png  \n",
            "  inflating: TopOptData/NotOptimized/PNG_image_41_0.png  \n",
            "  inflating: TopOptData/NotOptimized/PNG_image_43_0.png  \n",
            "  inflating: TopOptData/NotOptimized/PNG_image_45_0.png  \n",
            "  inflating: TopOptData/NotOptimized/PNG_image_47_0.png  \n",
            "  inflating: TopOptData/NotOptimized/PNG_image_49_0.png  \n",
            "  inflating: TopOptData/NotOptimized/PNG_image_51_0.png  \n",
            "  inflating: TopOptData/NotOptimized/PNG_image_53_0.png  \n",
            "  inflating: TopOptData/NotOptimized/PNG_image_55_0.png  \n",
            "  inflating: TopOptData/NotOptimized/PNG_image_57_0.png  \n",
            "  inflating: TopOptData/NotOptimized/PNG_image_59_0.png  \n",
            "  inflating: TopOptData/NotOptimized/PNG_image_61_0.png  \n",
            "  inflating: TopOptData/NotOptimized/PNG_image_63_0.png  \n",
            "  inflating: TopOptData/NotOptimized/PNG_image_65_0.png  \n",
            "  inflating: TopOptData/NotOptimized/PNG_image_67_0.png  \n",
            "  inflating: TopOptData/NotOptimized/PNG_image_69_0.png  \n",
            "  inflating: TopOptData/NotOptimized/PNG_image_7_0.png  \n",
            "  inflating: TopOptData/NotOptimized/PNG_image_71_0.png  \n",
            "  inflating: TopOptData/NotOptimized/PNG_image_73_0.png  \n",
            "  inflating: TopOptData/NotOptimized/PNG_image_75_0.png  \n",
            "  inflating: TopOptData/NotOptimized/PNG_image_77_0.png  \n",
            "  inflating: TopOptData/NotOptimized/PNG_image_79_0.png  \n",
            "  inflating: TopOptData/NotOptimized/PNG_image_81_0.png  \n",
            "  inflating: TopOptData/NotOptimized/PNG_image_83_0.png  \n",
            "  inflating: TopOptData/NotOptimized/PNG_image_85_0.png  \n",
            "  inflating: TopOptData/NotOptimized/PNG_image_87_0.png  \n",
            "  inflating: TopOptData/NotOptimized/PNG_image_89_0.png  \n",
            "  inflating: TopOptData/NotOptimized/PNG_image_9_0.png  \n",
            "  inflating: TopOptData/NotOptimized/PNG_image_91_0.png  \n",
            "  inflating: TopOptData/NotOptimized/PNG_image_93_0.png  \n",
            "  inflating: TopOptData/NotOptimized/PNG_image_95_0.png  \n",
            "  inflating: TopOptData/NotOptimized/PNG_image_97_0.png  \n",
            "  inflating: TopOptData/NotOptimized/PNG_image_99_0.png  \n",
            "  inflating: TopOptData/Optimized/JPG_image_11_500.jpg  \n",
            "  inflating: TopOptData/Optimized/JPG_image_13_500.jpg  \n",
            "  inflating: TopOptData/Optimized/JPG_image_15_500.jpg  \n",
            "  inflating: TopOptData/Optimized/JPG_image_17_500.jpg  \n",
            "  inflating: TopOptData/Optimized/JPG_image_18_500.jpg  \n",
            "  inflating: TopOptData/Optimized/JPG_image_20_500.jpg  \n",
            "  inflating: TopOptData/Optimized/JPG_image_22_500.jpg  \n",
            "  inflating: TopOptData/Optimized/JPG_image_24_500.jpg  \n",
            "  inflating: TopOptData/Optimized/JPG_image_26_500.jpg  \n",
            "  inflating: TopOptData/Optimized/JPG_image_28_500.jpg  \n",
            "  inflating: TopOptData/Optimized/JPG_image_31_500.jpg  \n",
            "  inflating: TopOptData/Optimized/JPG_image_33_500.jpg  \n",
            "  inflating: TopOptData/Optimized/JPG_image_35_500.jpg  \n",
            "  inflating: TopOptData/Optimized/JPG_image_37_500.jpg  \n",
            "  inflating: TopOptData/Optimized/JPG_image_39_500.jpg  \n",
            "  inflating: TopOptData/Optimized/JPG_image_41_500.jpg  \n",
            "  inflating: TopOptData/Optimized/JPG_image_43_500.jpg  \n",
            "  inflating: TopOptData/Optimized/JPG_image_45_500.jpg  \n",
            "  inflating: TopOptData/Optimized/JPG_image_47_500.jpg  \n",
            "  inflating: TopOptData/Optimized/JPG_image_49_500.jpg  \n",
            "  inflating: TopOptData/Optimized/JPG_image_5_500.jpg  \n",
            "  inflating: TopOptData/Optimized/JPG_image_51_500.jpg  \n",
            "  inflating: TopOptData/Optimized/JPG_image_53_500.jpg  \n",
            "  inflating: TopOptData/Optimized/JPG_image_55_500.jpg  \n",
            "  inflating: TopOptData/Optimized/JPG_image_57_500.jpg  \n",
            "  inflating: TopOptData/Optimized/JPG_image_59_500.jpg  \n",
            "  inflating: TopOptData/Optimized/JPG_image_61_500.jpg  \n",
            "  inflating: TopOptData/Optimized/JPG_image_63_500.jpg  \n",
            "  inflating: TopOptData/Optimized/JPG_image_65_500.jpg  \n",
            "  inflating: TopOptData/Optimized/JPG_image_67_500.jpg  \n",
            "  inflating: TopOptData/Optimized/JPG_image_69_500.jpg  \n",
            "  inflating: TopOptData/Optimized/JPG_image_7_500.jpg  \n",
            "  inflating: TopOptData/Optimized/JPG_image_71_500.jpg  \n",
            "  inflating: TopOptData/Optimized/JPG_image_73_500.jpg  \n",
            "  inflating: TopOptData/Optimized/JPG_image_75_500.jpg  \n",
            "  inflating: TopOptData/Optimized/JPG_image_77_500.jpg  \n",
            "  inflating: TopOptData/Optimized/JPG_image_79_500.jpg  \n",
            "  inflating: TopOptData/Optimized/JPG_image_81_500.jpg  \n",
            "  inflating: TopOptData/Optimized/JPG_image_83_500.jpg  \n",
            "  inflating: TopOptData/Optimized/JPG_image_85_500.jpg  \n",
            "  inflating: TopOptData/Optimized/JPG_image_87_500.jpg  \n",
            "  inflating: TopOptData/Optimized/JPG_image_89_500.jpg  \n",
            "  inflating: TopOptData/Optimized/JPG_image_9_500.jpg  \n",
            "  inflating: TopOptData/Optimized/JPG_image_91_500.jpg  \n",
            "  inflating: TopOptData/Optimized/JPG_image_93_500.jpg  \n",
            "  inflating: TopOptData/Optimized/JPG_image_95_500.jpg  \n",
            "  inflating: TopOptData/Optimized/JPG_image_97_500.jpg  \n",
            "  inflating: TopOptData/Optimized/JPG_image_99_500.jpg  \n",
            "  inflating: TopOptData/Optimized/PNG_image_11_500.png  \n",
            "  inflating: TopOptData/Optimized/PNG_image_13_500.png  \n",
            "  inflating: TopOptData/Optimized/PNG_image_15_500.png  \n",
            "  inflating: TopOptData/Optimized/PNG_image_17_500.png  \n",
            "  inflating: TopOptData/Optimized/PNG_image_18_500.png  \n",
            "  inflating: TopOptData/Optimized/PNG_image_20_500.png  \n",
            "  inflating: TopOptData/Optimized/PNG_image_22_500.png  \n",
            "  inflating: TopOptData/Optimized/PNG_image_24_500.png  \n",
            "  inflating: TopOptData/Optimized/PNG_image_26_500.png  \n",
            "  inflating: TopOptData/Optimized/PNG_image_28_500.png  \n",
            "  inflating: TopOptData/Optimized/PNG_image_31_500.png  \n",
            "  inflating: TopOptData/Optimized/PNG_image_33_500.png  \n",
            "  inflating: TopOptData/Optimized/PNG_image_35_500.png  \n",
            "  inflating: TopOptData/Optimized/PNG_image_37_500.png  \n",
            "  inflating: TopOptData/Optimized/PNG_image_39_500.png  \n",
            "  inflating: TopOptData/Optimized/PNG_image_41_500.png  \n",
            "  inflating: TopOptData/Optimized/PNG_image_43_500.png  \n",
            "  inflating: TopOptData/Optimized/PNG_image_45_500.png  \n",
            "  inflating: TopOptData/Optimized/PNG_image_47_500.png  \n",
            "  inflating: TopOptData/Optimized/PNG_image_49_500.png  \n",
            "  inflating: TopOptData/Optimized/PNG_image_5_500.png  \n",
            "  inflating: TopOptData/Optimized/PNG_image_51_500.png  \n",
            "  inflating: TopOptData/Optimized/PNG_image_53_500.png  \n",
            "  inflating: TopOptData/Optimized/PNG_image_55_500.png  \n",
            "  inflating: TopOptData/Optimized/PNG_image_57_500.png  \n",
            "  inflating: TopOptData/Optimized/PNG_image_59_500.png  \n",
            "  inflating: TopOptData/Optimized/PNG_image_61_500.png  \n",
            "  inflating: TopOptData/Optimized/PNG_image_63_500.png  \n",
            "  inflating: TopOptData/Optimized/PNG_image_65_500.png  \n",
            "  inflating: TopOptData/Optimized/PNG_image_67_500.png  \n",
            "  inflating: TopOptData/Optimized/PNG_image_69_500.png  \n",
            "  inflating: TopOptData/Optimized/PNG_image_7_500.png  \n",
            "  inflating: TopOptData/Optimized/PNG_image_71_500.png  \n",
            "  inflating: TopOptData/Optimized/PNG_image_73_500.png  \n",
            "  inflating: TopOptData/Optimized/PNG_image_75_500.png  \n",
            "  inflating: TopOptData/Optimized/PNG_image_77_500.png  \n",
            "  inflating: TopOptData/Optimized/PNG_image_79_500.png  \n",
            "  inflating: TopOptData/Optimized/PNG_image_81_500.png  \n",
            "  inflating: TopOptData/Optimized/PNG_image_83_500.png  \n",
            "  inflating: TopOptData/Optimized/PNG_image_85_500.png  \n",
            "  inflating: TopOptData/Optimized/PNG_image_87_500.png  \n",
            "  inflating: TopOptData/Optimized/PNG_image_89_500.png  \n",
            "  inflating: TopOptData/Optimized/PNG_image_9_500.png  \n",
            "  inflating: TopOptData/Optimized/PNG_image_91_500.png  \n",
            "  inflating: TopOptData/Optimized/PNG_image_93_500.png  \n",
            "  inflating: TopOptData/Optimized/PNG_image_95_500.png  \n",
            "  inflating: TopOptData/Optimized/PNG_image_97_500.png  \n",
            "  inflating: TopOptData/Optimized/PNG_image_99_500.png  \n"
          ],
          "name": "stdout"
        }
      ]
    },
    {
      "cell_type": "code",
      "metadata": {
        "colab": {
          "base_uri": "https://localhost:8080/"
        },
        "id": "YdAs0rBNVPC5",
        "outputId": "41377fdf-0845-4535-d77c-6cc41d7a7e03"
      },
      "source": [
        "!ls"
      ],
      "execution_count": 6,
      "outputs": [
        {
          "output_type": "stream",
          "text": [
            "Day3TopOptClass.zip  topopt-1.png  topopt-4.png  topopt-7.png  TopOptData\n",
            "sample_data\t     topopt-2.png  topopt-5.png  topopt-8.png\n",
            "topopt-10.png\t     topopt-3.png  topopt-6.png  topopt-9.png\n"
          ],
          "name": "stdout"
        }
      ]
    },
    {
      "cell_type": "code",
      "metadata": {
        "id": "STIyytGAUS-F"
      },
      "source": [
        "\n",
        "def load_labels(filename):\n",
        "  with open(filename, 'r') as f:\n",
        "    return [line.strip() for line in f.readlines()]"
      ],
      "execution_count": 9,
      "outputs": []
    },
    {
      "cell_type": "code",
      "metadata": {
        "id": "LhNLu-bUUS-G"
      },
      "source": [
        "#need to adjust\n",
        "\n",
        "IMG_SIZE =224\n",
        "IMAGE_SHAPE= (IMG_SIZE, IMG_SIZE)"
      ],
      "execution_count": 10,
      "outputs": []
    },
    {
      "cell_type": "code",
      "metadata": {
        "id": "cJsOJhXYUS-G"
      },
      "source": [
        "import matplotlib.pyplot as plt\n",
        "import matplotlib.image as mpimg"
      ],
      "execution_count": 11,
      "outputs": []
    },
    {
      "cell_type": "code",
      "metadata": {
        "scrolled": true,
        "colab": {
          "base_uri": "https://localhost:8080/",
          "height": 152
        },
        "id": "30uxyP-hUS-H",
        "outputId": "8f03c4b8-c2fe-43ec-e893-27e0f918368c"
      },
      "source": [
        "file = \"topopt-1.png\"\n",
        "#file = \"topopt-2.jpg\"\n",
        "#file = \"topopt-3.jpg\"\n",
        "\n",
        "img = mpimg.imread(file)\n",
        "plt.imshow(img)\n",
        "plt.axis('off')\n",
        "\n",
        "img = load_img(file, target_size=(IMG_SIZE,IMG_SIZE))\n",
        "img_array = img_to_array(img)\n",
        "img_array = np.expand_dims(img_array, axis=0)\n",
        "img_array = (np.float32(img_array)) / 255."
      ],
      "execution_count": 12,
      "outputs": [
        {
          "output_type": "display_data",
          "data": {
            "image/png": "[encoded data removed]",
            "text/plain": [
              "<Figure size 432x288 with 1 Axes>"
            ]
          },
          "metadata": {
            "tags": [],
            "needs_background": "light"
          }
        }
      ]
    },
    {
      "cell_type": "markdown",
      "metadata": {
        "id": "A04ax6CnUS-K"
      },
      "source": [
        "# Now use transfer learning to improve the model"
      ]
    },
    {
      "cell_type": "code",
      "metadata": {
        "colab": {
          "base_uri": "https://localhost:8080/"
        },
        "id": "RnUpC035US-M",
        "outputId": "a4c7b4c5-2279-4b5e-95f9-2c4ad2462cee"
      },
      "source": [
        "folder = './TopOptData/'\n",
        "image_generator = tf.keras.preprocessing.image.ImageDataGenerator(rescale=1./255)\n",
        "image_data = image_generator.flow_from_directory(directory=folder, target_size=IMAGE_SHAPE)\n",
        "\n",
        "for image_batch, label_batch in image_data:\n",
        "  print(\"Image batch shape: \", image_batch.shape)\n",
        "  print(\"Label batch shape: \", label_batch.shape)\n",
        "  break"
      ],
      "execution_count": 13,
      "outputs": [
        {
          "output_type": "stream",
          "text": [
            "Found 189 images belonging to 2 classes.\n",
            "Image batch shape:  (32, 224, 224, 3)\n",
            "Label batch shape:  (32, 2)\n"
          ],
          "name": "stdout"
        }
      ]
    },
    {
      "cell_type": "code",
      "metadata": {
        "colab": {
          "base_uri": "https://localhost:8080/"
        },
        "id": "z4C_sh8RUS-N",
        "outputId": "5fb20cf1-ddc1-4ec8-a7e6-514bce9d5d3d"
      },
      "source": [
        "feature_extractor_url = \"https://tfhub.dev/google/tf2-preview/mobilenet_v2/feature_vector/4\" \n",
        "feature_extractor_layer = hub.KerasLayer(feature_extractor_url,\n",
        "                                         input_shape=(224,224,3))\n",
        "feature_batch = feature_extractor_layer(img_array)\n",
        "print(feature_batch.shape)"
      ],
      "execution_count": 14,
      "outputs": [
        {
          "output_type": "stream",
          "text": [
            "(1, 1280)\n"
          ],
          "name": "stdout"
        }
      ]
    },
    {
      "cell_type": "code",
      "metadata": {
        "colab": {
          "base_uri": "https://localhost:8080/"
        },
        "id": "vq9uCZ7nUS-O",
        "outputId": "ec0ee053-1174-4884-faab-a90cbb1383b5"
      },
      "source": [
        "feature_extractor_layer.trainable = False\n",
        "\n",
        "model = tf.keras.Sequential([\n",
        "  feature_extractor_layer,\n",
        "  layers.Dense(image_data.num_classes)\n",
        "])\n",
        "\n",
        "model.summary()"
      ],
      "execution_count": 15,
      "outputs": [
        {
          "output_type": "stream",
          "text": [
            "Model: \"sequential\"\n",
            "_________________________________________________________________\n",
            "Layer (type)                 Output Shape              Param #   \n",
            "=================================================================\n",
            "keras_layer (KerasLayer)     (None, 1280)              2257984   \n",
            "_________________________________________________________________\n",
            "dense (Dense)                (None, 2)                 2562      \n",
            "=================================================================\n",
            "Total params: 2,260,546\n",
            "Trainable params: 2,562\n",
            "Non-trainable params: 2,257,984\n",
            "_________________________________________________________________\n"
          ],
          "name": "stdout"
        }
      ]
    },
    {
      "cell_type": "code",
      "metadata": {
        "colab": {
          "base_uri": "https://localhost:8080/"
        },
        "id": "9_r0HaT9US-P",
        "outputId": "b71b032a-6468-4437-d2f9-fc2ac3fb9325"
      },
      "source": [
        "predictions = model(img_array)\n",
        "predictions.shape"
      ],
      "execution_count": 16,
      "outputs": [
        {
          "output_type": "execute_result",
          "data": {
            "text/plain": [
              "TensorShape([1, 2])"
            ]
          },
          "metadata": {
            "tags": []
          },
          "execution_count": 16
        }
      ]
    },
    {
      "cell_type": "code",
      "metadata": {
        "id": "oG_0Cvp4US-R"
      },
      "source": [
        "model.compile(\n",
        "  optimizer=tf.keras.optimizers.Adam(),\n",
        "  loss=tf.keras.losses.CategoricalCrossentropy(from_logits=True),\n",
        "  metrics=['acc'])\n",
        "\n",
        "class CollectBatchStats(tf.keras.callbacks.Callback):\n",
        "  def __init__(self):\n",
        "    self.batch_losses = []\n",
        "    self.batch_acc = []\n",
        "\n",
        "  def on_train_batch_end(self, batch, logs=None):\n",
        "    self.batch_losses.append(logs['loss'])\n",
        "    self.batch_acc.append(logs['acc'])\n",
        "    self.model.reset_metrics()"
      ],
      "execution_count": 17,
      "outputs": []
    },
    {
      "cell_type": "code",
      "metadata": {
        "colab": {
          "base_uri": "https://localhost:8080/"
        },
        "id": "xyVR_-HAUS-R",
        "outputId": "01e2ef9f-cba7-487c-a6ae-3bcbb1262345"
      },
      "source": [
        "steps_per_epoch = np.ceil(image_data.samples/image_data.batch_size)\n",
        "\n",
        "batch_stats_callback = CollectBatchStats()\n",
        "\n",
        "history = model.fit (image_data, epochs=5,\n",
        "                              steps_per_epoch=steps_per_epoch,\n",
        "                              callbacks = [batch_stats_callback])"
      ],
      "execution_count": 18,
      "outputs": [
        {
          "output_type": "stream",
          "text": [
            "Epoch 1/5\n",
            "6/6 [==============================] - 4s 130ms/step - loss: 0.2409 - acc: 0.9062\n",
            "Epoch 2/5\n",
            "6/6 [==============================] - 0s 67ms/step - loss: 0.0670 - acc: 1.0000\n",
            "Epoch 3/5\n",
            "6/6 [==============================] - 0s 67ms/step - loss: 0.0920 - acc: 0.9688\n",
            "Epoch 4/5\n",
            "6/6 [==============================] - 0s 70ms/step - loss: 0.0176 - acc: 1.0000\n",
            "Epoch 5/5\n",
            "6/6 [==============================] - 0s 67ms/step - loss: 0.0227 - acc: 1.0000\n"
          ],
          "name": "stdout"
        }
      ]
    },
    {
      "cell_type": "code",
      "metadata": {
        "colab": {
          "base_uri": "https://localhost:8080/",
          "height": 301
        },
        "id": "fNCwE3eTUS-S",
        "outputId": "236b6a70-43ef-48fb-8229-7006d02403df"
      },
      "source": [
        "plt.figure()\n",
        "plt.ylabel(\"Loss\")\n",
        "plt.xlabel(\"Training Steps\")\n",
        "plt.ylim([0,2])\n",
        "plt.plot(batch_stats_callback.batch_losses)"
      ],
      "execution_count": 19,
      "outputs": [
        {
          "output_type": "execute_result",
          "data": {
            "text/plain": [
              "[<matplotlib.lines.Line2D at 0x7f4c2a237050>]"
            ]
          },
          "metadata": {
            "tags": []
          },
          "execution_count": 19
        },
        {
          "output_type": "display_data",
          "data": {
            "image/png": "[encoded data removed]",
            "text/plain": [
              "<Figure size 432x288 with 1 Axes>"
            ]
          },
          "metadata": {
            "tags": [],
            "needs_background": "light"
          }
        }
      ]
    },
    {
      "cell_type": "code",
      "metadata": {
        "colab": {
          "base_uri": "https://localhost:8080/",
          "height": 301
        },
        "id": "rNrfELrsUS-T",
        "outputId": "2276acd3-ced8-4e31-bc7c-ee14baea6472"
      },
      "source": [
        "plt.figure()\n",
        "plt.ylabel(\"Accuracy\")\n",
        "plt.xlabel(\"Training Steps\")\n",
        "plt.ylim([0,1])\n",
        "plt.plot(batch_stats_callback.batch_acc)"
      ],
      "execution_count": 20,
      "outputs": [
        {
          "output_type": "execute_result",
          "data": {
            "text/plain": [
              "[<matplotlib.lines.Line2D at 0x7f4c2a1baa10>]"
            ]
          },
          "metadata": {
            "tags": []
          },
          "execution_count": 20
        },
        {
          "output_type": "display_data",
          "data": {
            "image/png": "[encoded data removed]",
            "text/plain": [
              "<Figure size 432x288 with 1 Axes>"
            ]
          },
          "metadata": {
            "tags": [],
            "needs_background": "light"
          }
        }
      ]
    },
    {
      "cell_type": "code",
      "metadata": {
        "id": "npo7ZYPhUS-U"
      },
      "source": [
        "class_names = sorted(image_data.class_indices.items(), key=lambda pair:pair[1])\n",
        "class_names = np.array([key.title() for key, value in class_names])\n",
        "class_names\n",
        "\n",
        "#SAVE MODEL\n",
        "\n",
        "export_path_ = \"./my_model_trained/topopt_model.h5\"\n",
        "#model.save(export_path_)\n",
        "\n",
        "#export_path"
      ],
      "execution_count": 21,
      "outputs": []
    },
    {
      "cell_type": "markdown",
      "metadata": {
        "id": "DsHpfKmRUS-V"
      },
      "source": [
        "## Let's see if the classifier can detect samples it hasn't seen...\n",
        "\n",
        "E.g., different resolution of image, aspect ratio, BC"
      ]
    },
    {
      "cell_type": "code",
      "metadata": {
        "colab": {
          "base_uri": "https://localhost:8080/",
          "height": 225
        },
        "id": "FVNBzLPSUS-V",
        "outputId": "dc36b908-adf3-4ddf-b42d-3ca7fa0ed3e8"
      },
      "source": [
        "file = \"topopt-1.png\"\n",
        "#file = \"topopt-2.jpg\"\n",
        "#file = \"topopt-3.jpg\"\n",
        "\n",
        "img = mpimg.imread(file)\n",
        "plt.imshow(img)\n",
        "plt.axis('off')\n",
        "\n",
        "img = load_img(file, target_size=(IMG_SIZE,IMG_SIZE))\n",
        "img_array = img_to_array(img)\n",
        "img_array = np.expand_dims(img_array, axis=0)\n",
        "img_array = (np.float32(img_array)) / 255.\n",
        "\n",
        "prediction = model.predict (img_array);\n",
        "#print (prediction)\n",
        "maxpos=np.argmax(prediction)\n",
        "print (prediction.shape)\n",
        "print (\"Highest prediction: \", class_names[maxpos], maxpos, prediction [0,maxpos]/max(prediction[0,:]) )\n",
        "print (\"All predictions: \", prediction [0,:]//max(prediction[0,:]))\n",
        "print (\"All labels:      \", class_names)  "
      ],
      "execution_count": 22,
      "outputs": [
        {
          "output_type": "stream",
          "text": [
            "(1, 2)\n",
            "Highest prediction:  Notoptimized 0 1.0\n",
            "All predictions:  [ 1. -1.]\n",
            "All labels:       ['Notoptimized' 'Optimized']\n"
          ],
          "name": "stdout"
        },
        {
          "output_type": "display_data",
          "data": {
            "image/png": "[encoded data removed]",
            "text/plain": [
              "<Figure size 432x288 with 1 Axes>"
            ]
          },
          "metadata": {
            "tags": [],
            "needs_background": "light"
          }
        }
      ]
    },
    {
      "cell_type": "code",
      "metadata": {
        "colab": {
          "base_uri": "https://localhost:8080/",
          "height": 225
        },
        "id": "R3iaiRhOUS-W",
        "outputId": "14af9ac6-5779-4bcc-8ea5-f58d2552db04"
      },
      "source": [
        "file = \"topopt-2.png\"\n",
        "#file = \"topopt-2.jpg\"\n",
        "#file = \"topopt-3.jpg\"\n",
        "\n",
        "img = mpimg.imread(file)\n",
        "plt.imshow(img)\n",
        "plt.axis('off')\n",
        "\n",
        "img = load_img(file, target_size=(IMG_SIZE,IMG_SIZE))\n",
        "img_array = img_to_array(img)\n",
        "img_array = np.expand_dims(img_array, axis=0)\n",
        "img_array = (np.float32(img_array)) / 255.\n",
        "\n",
        "prediction = model.predict (img_array);\n",
        "#print (prediction)\n",
        "maxpos=np.argmax(prediction)\n",
        "print (prediction.shape)\n",
        "print (\"Highest prediction: \", class_names[maxpos], maxpos, prediction [0,maxpos]/max(prediction[0,:]) )\n",
        "print (\"All predictions: \", prediction [0,:]//max(prediction[0,:]))\n",
        "print (\"All labels:      \", class_names)  "
      ],
      "execution_count": 23,
      "outputs": [
        {
          "output_type": "stream",
          "text": [
            "(1, 2)\n",
            "Highest prediction:  Optimized 1 1.0\n",
            "All predictions:  [-2.  1.]\n",
            "All labels:       ['Notoptimized' 'Optimized']\n"
          ],
          "name": "stdout"
        },
        {
          "output_type": "display_data",
          "data": {
            "image/png": "[encoded data removed]",
            "text/plain": [
              "<Figure size 432x288 with 1 Axes>"
            ]
          },
          "metadata": {
            "tags": [],
            "needs_background": "light"
          }
        }
      ]
    },
    {
      "cell_type": "code",
      "metadata": {
        "colab": {
          "base_uri": "https://localhost:8080/",
          "height": 321
        },
        "id": "pmChB2KPUS-X",
        "outputId": "39305eda-e400-491d-a16c-638f24bce32b"
      },
      "source": [
        "file = \"topopt-3.png\"\n",
        "#file = \"topopt-2.jpg\"\n",
        "#file = \"topopt-3.jpg\"\n",
        "\n",
        "img = mpimg.imread(file)\n",
        "plt.imshow(img)\n",
        "plt.axis('off')\n",
        "\n",
        "img = load_img(file, target_size=(IMG_SIZE,IMG_SIZE))\n",
        "img_array = img_to_array(img)\n",
        "img_array = np.expand_dims(img_array, axis=0)\n",
        "img_array = (np.float32(img_array)) / 255.\n",
        "\n",
        "prediction = model.predict (img_array);\n",
        "#print (prediction)\n",
        "maxpos=np.argmax(prediction)\n",
        "print (prediction.shape)\n",
        "print (\"Highest prediction: \", class_names[maxpos], maxpos, prediction [0,maxpos]/max(prediction[0,:]) )\n",
        "print (\"All predictions: \", prediction [0,:]//max(prediction[0,:]))\n",
        "print (\"All labels:      \", class_names)  "
      ],
      "execution_count": 24,
      "outputs": [
        {
          "output_type": "stream",
          "text": [
            "(1, 2)\n",
            "Highest prediction:  Notoptimized 0 1.0\n",
            "All predictions:  [ 1. -1.]\n",
            "All labels:       ['Notoptimized' 'Optimized']\n"
          ],
          "name": "stdout"
        },
        {
          "output_type": "display_data",
          "data": {
            "image/png": "[encoded data removed]",
            "text/plain": [
              "<Figure size 432x288 with 1 Axes>"
            ]
          },
          "metadata": {
            "tags": [],
            "needs_background": "light"
          }
        }
      ]
    },
    {
      "cell_type": "code",
      "metadata": {
        "colab": {
          "base_uri": "https://localhost:8080/",
          "height": 321
        },
        "id": "pj7OZecOUS-Y",
        "outputId": "3a2a7652-4f2d-4ea7-b261-f7624e645e56"
      },
      "source": [
        "file = \"topopt-4.png\"\n",
        "#file = \"topopt-2.jpg\"\n",
        "#file = \"topopt-3.jpg\"\n",
        "\n",
        "img = mpimg.imread(file)\n",
        "plt.imshow(img)\n",
        "plt.axis('off')\n",
        "\n",
        "img = load_img(file, target_size=(IMG_SIZE,IMG_SIZE))\n",
        "img_array = img_to_array(img)\n",
        "img_array = np.expand_dims(img_array, axis=0)\n",
        "img_array = (np.float32(img_array)) / 255.\n",
        "\n",
        "prediction = model.predict (img_array);\n",
        "#print (prediction)\n",
        "maxpos=np.argmax(prediction)\n",
        "print (prediction.shape)\n",
        "print (\"Highest prediction: \", class_names[maxpos], maxpos, prediction [0,maxpos]/max(prediction[0,:]) )\n",
        "print (\"All predictions: \", prediction [0,:]//max(prediction[0,:]))\n",
        "print (\"All labels:      \", class_names)  "
      ],
      "execution_count": 25,
      "outputs": [
        {
          "output_type": "stream",
          "text": [
            "(1, 2)\n",
            "Highest prediction:  Optimized 1 1.0\n",
            "All predictions:  [-1.  1.]\n",
            "All labels:       ['Notoptimized' 'Optimized']\n"
          ],
          "name": "stdout"
        },
        {
          "output_type": "display_data",
          "data": {
            "image/png": "[encoded data removed]",
            "text/plain": [
              "<Figure size 432x288 with 1 Axes>"
            ]
          },
          "metadata": {
            "tags": [],
            "needs_background": "light"
          }
        }
      ]
    },
    {
      "cell_type": "code",
      "metadata": {
        "colab": {
          "base_uri": "https://localhost:8080/",
          "height": 278
        },
        "id": "BImraGlHUS-Z",
        "outputId": "c82af95d-d209-48cc-98ba-793cdd6c88f2"
      },
      "source": [
        "file = \"topopt-5.png\"\n",
        "#file = \"topopt-2.jpg\"\n",
        "#file = \"topopt-3.jpg\"\n",
        "\n",
        "img = mpimg.imread(file)\n",
        "plt.imshow(img)\n",
        "plt.axis('off')\n",
        "\n",
        "img = load_img(file, target_size=(IMG_SIZE,IMG_SIZE))\n",
        "img_array = img_to_array(img)\n",
        "img_array = np.expand_dims(img_array, axis=0)\n",
        "img_array = (np.float32(img_array)) / 255.\n",
        "\n",
        "prediction = model.predict (img_array);\n",
        "#print (prediction)\n",
        "maxpos=np.argmax(prediction)\n",
        "print (prediction.shape)\n",
        "print (\"Highest prediction: \", class_names[maxpos], maxpos, prediction [0,maxpos]/max(prediction[0,:]) )\n",
        "print (\"All predictions: \", prediction [0,:]//max(prediction[0,:]))\n",
        "print (\"All labels:      \", class_names)  "
      ],
      "execution_count": 26,
      "outputs": [
        {
          "output_type": "stream",
          "text": [
            "(1, 2)\n",
            "Highest prediction:  Notoptimized 0 1.0\n",
            "All predictions:  [ 1. -1.]\n",
            "All labels:       ['Notoptimized' 'Optimized']\n"
          ],
          "name": "stdout"
        },
        {
          "output_type": "display_data",
          "data": {
            "image/png": "[encoded data removed]",
            "text/plain": [
              "<Figure size 432x288 with 1 Axes>"
            ]
          },
          "metadata": {
            "tags": [],
            "needs_background": "light"
          }
        }
      ]
    },
    {
      "cell_type": "code",
      "metadata": {
        "colab": {
          "base_uri": "https://localhost:8080/",
          "height": 278
        },
        "id": "n9-huvL2US-b",
        "outputId": "4251a66a-715e-4915-85b1-cd5f304e1495"
      },
      "source": [
        "file = \"topopt-6.png\"\n",
        "#file = \"topopt-2.jpg\"\n",
        "#file = \"topopt-3.jpg\"\n",
        "\n",
        "img = mpimg.imread(file)\n",
        "plt.imshow(img)\n",
        "plt.axis('off')\n",
        "\n",
        "img = load_img(file, target_size=(IMG_SIZE,IMG_SIZE))\n",
        "img_array = img_to_array(img)\n",
        "img_array = np.expand_dims(img_array, axis=0)\n",
        "img_array = (np.float32(img_array)) / 255.\n",
        "\n",
        "prediction = model.predict (img_array);\n",
        "#print (prediction)\n",
        "maxpos=np.argmax(prediction)\n",
        "print (prediction.shape)\n",
        "print (\"Highest prediction: \", class_names[maxpos], maxpos, prediction [0,maxpos]/max(prediction[0,:]) )\n",
        "print (\"All predictions: \", prediction [0,:]//max(prediction[0,:]))\n",
        "print (\"All labels:      \", class_names)  "
      ],
      "execution_count": 27,
      "outputs": [
        {
          "output_type": "stream",
          "text": [
            "(1, 2)\n",
            "Highest prediction:  Notoptimized 0 1.0\n",
            "All predictions:  [ 1. -1.]\n",
            "All labels:       ['Notoptimized' 'Optimized']\n"
          ],
          "name": "stdout"
        },
        {
          "output_type": "display_data",
          "data": {
            "image/png": "[encoded data removed]",
            "text/plain": [
              "<Figure size 432x288 with 1 Axes>"
            ]
          },
          "metadata": {
            "tags": [],
            "needs_background": "light"
          }
        }
      ]
    },
    {
      "cell_type": "code",
      "metadata": {
        "colab": {
          "base_uri": "https://localhost:8080/",
          "height": 278
        },
        "id": "lwCbVL1gUS-d",
        "outputId": "fbfe8def-caca-48f7-e278-a920cc69936e"
      },
      "source": [
        "file = \"topopt-7.png\"\n",
        "#file = \"topopt-2.jpg\"\n",
        "#file = \"topopt-3.jpg\"\n",
        "\n",
        "img = mpimg.imread(file)\n",
        "plt.imshow(img)\n",
        "plt.axis('off')\n",
        "\n",
        "img = load_img(file, target_size=(IMG_SIZE,IMG_SIZE))\n",
        "img_array = img_to_array(img)\n",
        "img_array = np.expand_dims(img_array, axis=0)\n",
        "img_array = (np.float32(img_array)) / 255.\n",
        "\n",
        "prediction = model.predict (img_array);\n",
        "#print (prediction)\n",
        "maxpos=np.argmax(prediction)\n",
        "print (prediction.shape)\n",
        "print (\"Highest prediction: \", class_names[maxpos], maxpos, prediction [0,maxpos]/max(prediction[0,:]) )\n",
        "print (\"All predictions: \", prediction [0,:]//max(prediction[0,:]))\n",
        "print (\"All labels:      \", class_names)  "
      ],
      "execution_count": 28,
      "outputs": [
        {
          "output_type": "stream",
          "text": [
            "(1, 2)\n",
            "Highest prediction:  Optimized 1 1.0\n",
            "All predictions:  [-1.  1.]\n",
            "All labels:       ['Notoptimized' 'Optimized']\n"
          ],
          "name": "stdout"
        },
        {
          "output_type": "display_data",
          "data": {
            "image/png": "[encoded data removed]",
            "text/plain": [
              "<Figure size 432x288 with 1 Axes>"
            ]
          },
          "metadata": {
            "tags": [],
            "needs_background": "light"
          }
        }
      ]
    },
    {
      "cell_type": "code",
      "metadata": {
        "colab": {
          "base_uri": "https://localhost:8080/",
          "height": 321
        },
        "id": "wR-HE246US-e",
        "outputId": "f9b6349e-5c11-4ded-d012-246587b1e684"
      },
      "source": [
        "file = \"topopt-8.png\"\n",
        "#file = \"topopt-2.jpg\"\n",
        "#file = \"topopt-3.jpg\"\n",
        "\n",
        "img = mpimg.imread(file)\n",
        "plt.imshow(img)\n",
        "plt.axis('off')\n",
        "\n",
        "img = load_img(file, target_size=(IMG_SIZE,IMG_SIZE))\n",
        "img_array = img_to_array(img)\n",
        "img_array = np.expand_dims(img_array, axis=0)\n",
        "img_array = (np.float32(img_array)) / 255.\n",
        "\n",
        "prediction = model.predict (img_array);\n",
        "#print (prediction)\n",
        "maxpos=np.argmax(prediction)\n",
        "print (prediction.shape)\n",
        "print (\"Highest prediction: \", class_names[maxpos], maxpos, prediction [0,maxpos]/max(prediction[0,:]) )\n",
        "print (\"All predictions: \", prediction [0,:]//max(prediction[0,:]))\n",
        "print (\"All labels:      \", class_names)  "
      ],
      "execution_count": 29,
      "outputs": [
        {
          "output_type": "stream",
          "text": [
            "(1, 2)\n",
            "Highest prediction:  Notoptimized 0 1.0\n",
            "All predictions:  [1. 0.]\n",
            "All labels:       ['Notoptimized' 'Optimized']\n"
          ],
          "name": "stdout"
        },
        {
          "output_type": "display_data",
          "data": {
            "image/png": "[encoded data removed]",
            "text/plain": [
              "<Figure size 432x288 with 1 Axes>"
            ]
          },
          "metadata": {
            "tags": [],
            "needs_background": "light"
          }
        }
      ]
    },
    {
      "cell_type": "code",
      "metadata": {
        "colab": {
          "base_uri": "https://localhost:8080/",
          "height": 321
        },
        "id": "GzMufeduUS-f",
        "outputId": "a477c43c-6688-404f-c881-b54023025ec6"
      },
      "source": [
        "file = \"topopt-10.png\"\n",
        "#file = \"topopt-2.jpg\"\n",
        "#file = \"topopt-3.jpg\"\n",
        "\n",
        "img = mpimg.imread(file)\n",
        "plt.imshow(img)\n",
        "plt.axis('off')\n",
        "\n",
        "img = load_img(file, target_size=(IMG_SIZE,IMG_SIZE))\n",
        "img_array = img_to_array(img)\n",
        "img_array = np.expand_dims(img_array, axis=0)\n",
        "img_array = (np.float32(img_array)) / 255.\n",
        "\n",
        "prediction = model.predict (img_array);\n",
        "#print (prediction)\n",
        "maxpos=np.argmax(prediction)\n",
        "print (prediction.shape)\n",
        "print (\"Highest prediction: \", class_names[maxpos], maxpos, prediction [0,maxpos]/max(prediction[0,:]) )\n",
        "print (\"All predictions: \", prediction [0,:]//max(prediction[0,:]))\n",
        "print (\"All labels:      \", class_names)  "
      ],
      "execution_count": 30,
      "outputs": [
        {
          "output_type": "stream",
          "text": [
            "(1, 2)\n",
            "Highest prediction:  Notoptimized 0 1.0\n",
            "All predictions:  [ 1. -1.]\n",
            "All labels:       ['Notoptimized' 'Optimized']\n"
          ],
          "name": "stdout"
        },
        {
          "output_type": "display_data",
          "data": {
            "image/png": "[encoded data removed]",
            "text/plain": [
              "<Figure size 432x288 with 1 Axes>"
            ]
          },
          "metadata": {
            "tags": [],
            "needs_background": "light"
          }
        }
      ]
    },
    {
      "cell_type": "code",
      "metadata": {
        "id": "I2wA60nwUS-g"
      },
      "source": [
        ""
      ],
      "execution_count": null,
      "outputs": []
    },
    {
      "cell_type": "code",
      "metadata": {
        "id": "0eSw3cxLUS-h"
      },
      "source": [
        ""
      ],
      "execution_count": null,
      "outputs": []
    },
    {
      "cell_type": "code",
      "metadata": {
        "id": "PlYadtx-US-h"
      },
      "source": [
        ""
      ],
      "execution_count": null,
      "outputs": []
    }
  ]
}